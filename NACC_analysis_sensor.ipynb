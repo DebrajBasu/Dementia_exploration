{
 "cells": [
  {
   "cell_type": "code",
   "execution_count": 1,
   "metadata": {},
   "outputs": [
    {
     "name": "stderr",
     "output_type": "stream",
     "text": [
      "C:\\Users\\Debraj Basu\\Anaconda3\\lib\\site-packages\\IPython\\core\\interactiveshell.py:3049: DtypeWarning: Columns (19,21,23,25,27,40,43,45,47,50,60,62,64,66,68,70,86,87,88,89,90,91,92,93,94,95,96,97,98,99,100,101,102,103,104,105,106,107,108,109,110,111,112,113,133,164,175,178,216,219,221,223,225,227,229,231,233,235,237,239,241,243,245,249,251,253,255,257,259,261,263,265,267,269,271,381,396,398,400,420,422,431,444,453,493,566,574,599,635,651,668,671,676,688,699,705,707,774,785,787,789,791,797,858,913,914,915,923,924,925,926,936,958,961,964) have mixed types. Specify dtype option on import or set low_memory=False.\n",
      "  interactivity=interactivity, compiler=compiler, result=result)\n"
     ]
    }
   ],
   "source": [
    "import pandas as pd\n",
    "import numpy as np\n",
    "import seaborn as sns\n",
    "import matplotlib.pyplot as plt\n",
    "%matplotlib inline\n",
    "\n",
    "sns.set()\n",
    "\n",
    "df_NACC = pd.read_csv('./investigator_nacc46.csv')"
   ]
  },
  {
   "cell_type": "code",
   "execution_count": 2,
   "metadata": {},
   "outputs": [],
   "source": [
    "cols2FAQ =['BILLS', 'TAXES', 'SHOPPING', 'GAMES', 'STOVE', 'MEALPREP', 'EVENTS','PAYATTN', 'REMDATES', 'TRAVEL']\n",
    "col2NPIQ = ['DELSEV', 'HALLSEV', 'AGITSEV', 'DEPDSEV', 'ANXSEV', 'ELATSEV', 'APASEV', 'DISNSEV', \\\n",
    "         'IRRSEV', 'MOTSEV', 'NITESEV', 'APPSEV']"
   ]
  },
  {
   "cell_type": "markdown",
   "metadata": {},
   "source": [
    "# Use the columns of interests for temporal understanding of score changes"
   ]
  },
  {
   "cell_type": "code",
   "execution_count": 4,
   "metadata": {
    "scrolled": true
   },
   "outputs": [],
   "source": [
    "df_score = df_NACC[(df_NACC['NACCMMSE']<=30)  & (df_NACC['NACCMMSE'] >=0) & (df_NACC['NACCAGEB'] >45) &\\\n",
    "             (df_NACC['MARISTAT'] !=9) &(df_NACC['NACCLIVS'] !=9) & (df_NACC['NACCUDSD'] !=2) & (df_NACC['NACCGDS'] !=-4) \\\n",
    "            &  (df_NACC['NACCGDS'] <=15) & (df_NACC['BILLS'] >=0)& (df_NACC['BILLS'] <=8) & (df_NACC['TAXES'] >=0)& \\\n",
    "            (df_NACC['TAXES'] <=8) & (df_NACC['SHOPPING'] >=0)& (df_NACC['SHOPPING'] <=8) & (df_NACC['GAMES'] >=0)& \\\n",
    "            (df_NACC['GAMES'] <=8) & (df_NACC['STOVE'] >=0)& (df_NACC['STOVE'] <=8) & (df_NACC['MEALPREP'] >=0)& \\\n",
    "            (df_NACC['MEALPREP'] <=8) & (df_NACC['EVENTS'] >=0)& (df_NACC['EVENTS'] <=8) & (df_NACC['PAYATTN'] >=0)&\\\n",
    "            (df_NACC['PAYATTN'] <=8) & (df_NACC['REMDATES'] >=0)& (df_NACC['REMDATES'] <=8) & (df_NACC['TRAVEL'] >=0)& \\\n",
    "            (df_NACC['TRAVEL'] <=8) & (df_NACC['DELSEV'] >=1)& (df_NACC['DELSEV'] <=8) &(df_NACC['HALLSEV'] >=1)&\\\n",
    "            (df_NACC['HALLSEV'] <=8) &(df_NACC['AGITSEV'] >=1)& (df_NACC['AGITSEV'] <=8) &(df_NACC['DEPDSEV'] >=1)\\\n",
    "            & (df_NACC['DEPDSEV'] <=8) &(df_NACC['ANXSEV'] >=1)& (df_NACC['ANXSEV'] <=8) &(df_NACC['ELATSEV'] >=1)& \\\n",
    "            (df_NACC['ELATSEV'] <=8) &(df_NACC['APASEV'] >=1)& (df_NACC['APASEV'] <=8) &(df_NACC['DISNSEV'] >=1)& \\\n",
    "            (df_NACC['DISNSEV'] <=8) & (df_NACC['IRRSEV'] >=1)& (df_NACC['IRRSEV'] <=8) &(df_NACC['MOTSEV'] >=1)& \\\n",
    "            (df_NACC['MOTSEV'] <=8) & (df_NACC['NITESEV'] >=1)& (df_NACC['NITESEV'] <=8) &(df_NACC['APPSEV'] >=1)& \\\n",
    "            (df_NACC['APPSEV'] <=8)]\\\n",
    "         [['NACCID', 'VISITMO','VISITYR', 'NACCVNUM', 'NACCAVST','CDRSUM', 'NACCMMSE','BILLS', 'TAXES', 'SHOPPING', 'GAMES', \\\n",
    "           'STOVE', 'MEALPREP', 'EVENTS','PAYATTN', 'REMDATES', 'TRAVEL', 'DELSEV', 'HALLSEV', 'AGITSEV', 'DEPDSEV', \\\n",
    "           'ANXSEV', 'ELATSEV', 'APASEV', 'DISNSEV', 'IRRSEV', 'MOTSEV', 'NITESEV', 'APPSEV',\\\n",
    "           'NACCGDS', 'DEMENTED', 'NACCUDSD']]\n",
    "df_score =df_score.reset_index(drop= True)"
   ]
  },
  {
   "cell_type": "markdown",
   "metadata": {},
   "source": [
    "# convert all values in NPI-Q from 8 to 0"
   ]
  },
  {
   "cell_type": "code",
   "execution_count": 5,
   "metadata": {},
   "outputs": [],
   "source": [
    "def assignvalue(value):\n",
    "    if value ==8:\n",
    "        return 0\n",
    "    else:\n",
    "        return value\n",
    "list_item =['DELSEV', 'HALLSEV', 'AGITSEV', 'DEPDSEV', 'ANXSEV', 'ELATSEV', 'APASEV', 'DISNSEV', 'IRRSEV', 'MOTSEV', \\\n",
    "            'NITESEV', 'APPSEV']\n",
    "for l in list_item:\n",
    "    df_score[l]=df_score[l].apply(assignvalue )"
   ]
  },
  {
   "cell_type": "markdown",
   "metadata": {},
   "source": [
    "# Add the NPI scores and drop the individual categories"
   ]
  },
  {
   "cell_type": "code",
   "execution_count": 6,
   "metadata": {},
   "outputs": [
    {
     "data": {
      "text/html": [
       "<div>\n",
       "<style scoped>\n",
       "    .dataframe tbody tr th:only-of-type {\n",
       "        vertical-align: middle;\n",
       "    }\n",
       "\n",
       "    .dataframe tbody tr th {\n",
       "        vertical-align: top;\n",
       "    }\n",
       "\n",
       "    .dataframe thead th {\n",
       "        text-align: right;\n",
       "    }\n",
       "</style>\n",
       "<table border=\"1\" class=\"dataframe\">\n",
       "  <thead>\n",
       "    <tr style=\"text-align: right;\">\n",
       "      <th></th>\n",
       "      <th>NACCID</th>\n",
       "      <th>VISITMO</th>\n",
       "      <th>VISITYR</th>\n",
       "      <th>NACCVNUM</th>\n",
       "      <th>NACCAVST</th>\n",
       "      <th>CDRSUM</th>\n",
       "      <th>NACCMMSE</th>\n",
       "      <th>BILLS</th>\n",
       "      <th>TAXES</th>\n",
       "      <th>SHOPPING</th>\n",
       "      <th>...</th>\n",
       "      <th>STOVE</th>\n",
       "      <th>MEALPREP</th>\n",
       "      <th>EVENTS</th>\n",
       "      <th>PAYATTN</th>\n",
       "      <th>REMDATES</th>\n",
       "      <th>TRAVEL</th>\n",
       "      <th>NACCGDS</th>\n",
       "      <th>DEMENTED</th>\n",
       "      <th>NACCUDSD</th>\n",
       "      <th>NPI_SUM</th>\n",
       "    </tr>\n",
       "  </thead>\n",
       "  <tbody>\n",
       "    <tr>\n",
       "      <th>0</th>\n",
       "      <td>NACC000385</td>\n",
       "      <td>11</td>\n",
       "      <td>2006</td>\n",
       "      <td>1</td>\n",
       "      <td>7</td>\n",
       "      <td>5.0</td>\n",
       "      <td>24</td>\n",
       "      <td>2</td>\n",
       "      <td>2</td>\n",
       "      <td>0</td>\n",
       "      <td>...</td>\n",
       "      <td>0</td>\n",
       "      <td>0</td>\n",
       "      <td>1</td>\n",
       "      <td>2</td>\n",
       "      <td>2</td>\n",
       "      <td>2</td>\n",
       "      <td>1</td>\n",
       "      <td>1</td>\n",
       "      <td>4</td>\n",
       "      <td>1</td>\n",
       "    </tr>\n",
       "    <tr>\n",
       "      <th>1</th>\n",
       "      <td>NACC000385</td>\n",
       "      <td>3</td>\n",
       "      <td>2008</td>\n",
       "      <td>2</td>\n",
       "      <td>7</td>\n",
       "      <td>7.0</td>\n",
       "      <td>22</td>\n",
       "      <td>3</td>\n",
       "      <td>3</td>\n",
       "      <td>3</td>\n",
       "      <td>...</td>\n",
       "      <td>0</td>\n",
       "      <td>3</td>\n",
       "      <td>2</td>\n",
       "      <td>1</td>\n",
       "      <td>3</td>\n",
       "      <td>3</td>\n",
       "      <td>2</td>\n",
       "      <td>1</td>\n",
       "      <td>4</td>\n",
       "      <td>0</td>\n",
       "    </tr>\n",
       "    <tr>\n",
       "      <th>2</th>\n",
       "      <td>NACC000385</td>\n",
       "      <td>3</td>\n",
       "      <td>2009</td>\n",
       "      <td>3</td>\n",
       "      <td>7</td>\n",
       "      <td>5.0</td>\n",
       "      <td>21</td>\n",
       "      <td>3</td>\n",
       "      <td>3</td>\n",
       "      <td>3</td>\n",
       "      <td>...</td>\n",
       "      <td>1</td>\n",
       "      <td>2</td>\n",
       "      <td>2</td>\n",
       "      <td>2</td>\n",
       "      <td>3</td>\n",
       "      <td>3</td>\n",
       "      <td>1</td>\n",
       "      <td>1</td>\n",
       "      <td>4</td>\n",
       "      <td>0</td>\n",
       "    </tr>\n",
       "    <tr>\n",
       "      <th>3</th>\n",
       "      <td>NACC000385</td>\n",
       "      <td>4</td>\n",
       "      <td>2010</td>\n",
       "      <td>4</td>\n",
       "      <td>7</td>\n",
       "      <td>5.0</td>\n",
       "      <td>20</td>\n",
       "      <td>2</td>\n",
       "      <td>2</td>\n",
       "      <td>2</td>\n",
       "      <td>...</td>\n",
       "      <td>0</td>\n",
       "      <td>1</td>\n",
       "      <td>2</td>\n",
       "      <td>2</td>\n",
       "      <td>2</td>\n",
       "      <td>2</td>\n",
       "      <td>1</td>\n",
       "      <td>1</td>\n",
       "      <td>4</td>\n",
       "      <td>4</td>\n",
       "    </tr>\n",
       "    <tr>\n",
       "      <th>4</th>\n",
       "      <td>NACC000385</td>\n",
       "      <td>1</td>\n",
       "      <td>2011</td>\n",
       "      <td>5</td>\n",
       "      <td>7</td>\n",
       "      <td>7.0</td>\n",
       "      <td>16</td>\n",
       "      <td>3</td>\n",
       "      <td>3</td>\n",
       "      <td>3</td>\n",
       "      <td>...</td>\n",
       "      <td>0</td>\n",
       "      <td>1</td>\n",
       "      <td>1</td>\n",
       "      <td>2</td>\n",
       "      <td>2</td>\n",
       "      <td>3</td>\n",
       "      <td>3</td>\n",
       "      <td>1</td>\n",
       "      <td>4</td>\n",
       "      <td>2</td>\n",
       "    </tr>\n",
       "  </tbody>\n",
       "</table>\n",
       "<p>5 rows × 21 columns</p>\n",
       "</div>"
      ],
      "text/plain": [
       "       NACCID  VISITMO  VISITYR  NACCVNUM  NACCAVST  CDRSUM  NACCMMSE  BILLS  \\\n",
       "0  NACC000385       11     2006         1         7     5.0        24      2   \n",
       "1  NACC000385        3     2008         2         7     7.0        22      3   \n",
       "2  NACC000385        3     2009         3         7     5.0        21      3   \n",
       "3  NACC000385        4     2010         4         7     5.0        20      2   \n",
       "4  NACC000385        1     2011         5         7     7.0        16      3   \n",
       "\n",
       "   TAXES  SHOPPING  ...  STOVE  MEALPREP  EVENTS  PAYATTN  REMDATES  TRAVEL  \\\n",
       "0      2         0  ...      0         0       1        2         2       2   \n",
       "1      3         3  ...      0         3       2        1         3       3   \n",
       "2      3         3  ...      1         2       2        2         3       3   \n",
       "3      2         2  ...      0         1       2        2         2       2   \n",
       "4      3         3  ...      0         1       1        2         2       3   \n",
       "\n",
       "   NACCGDS  DEMENTED  NACCUDSD  NPI_SUM  \n",
       "0        1         1         4        1  \n",
       "1        2         1         4        0  \n",
       "2        1         1         4        0  \n",
       "3        1         1         4        4  \n",
       "4        3         1         4        2  \n",
       "\n",
       "[5 rows x 21 columns]"
      ]
     },
     "execution_count": 6,
     "metadata": {},
     "output_type": "execute_result"
    }
   ],
   "source": [
    "df_score['NPI_SUM'] = df_score[col2NPIQ].sum(axis =1)\n",
    "df_score= df_score.drop(col2NPIQ, axis =1)\n",
    "df_score.shape\n",
    "df_score.head()"
   ]
  },
  {
   "cell_type": "code",
   "execution_count": null,
   "metadata": {},
   "outputs": [],
   "source": [
    "df_score.groupby('NACCVNUM').size()"
   ]
  },
  {
   "cell_type": "markdown",
   "metadata": {},
   "source": [
    "# Add the FAQ scores and drop the individual categories"
   ]
  },
  {
   "cell_type": "code",
   "execution_count": 7,
   "metadata": {},
   "outputs": [
    {
     "data": {
      "text/plain": [
       "(83664, 12)"
      ]
     },
     "execution_count": 7,
     "metadata": {},
     "output_type": "execute_result"
    }
   ],
   "source": [
    "df_score['FAQ_SUM'] = df_score[cols2FAQ].sum(axis =1)\n",
    "df_score= df_score.drop(cols2FAQ, axis =1)\n",
    "df_score.shape"
   ]
  },
  {
   "cell_type": "markdown",
   "metadata": {},
   "source": [
    "# Total number of patients"
   ]
  },
  {
   "cell_type": "code",
   "execution_count": 17,
   "metadata": {},
   "outputs": [
    {
     "data": {
      "text/plain": [
       "28554"
      ]
     },
     "execution_count": 17,
     "metadata": {},
     "output_type": "execute_result"
    }
   ],
   "source": [
    "len(df_score['NACCID'].unique())"
   ]
  },
  {
   "cell_type": "markdown",
   "metadata": {},
   "source": [
    "# Convert NACCUDSD to categorical values"
   ]
  },
  {
   "cell_type": "code",
   "execution_count": 8,
   "metadata": {},
   "outputs": [],
   "source": [
    "df_score['NACCUDSD'] = df_score['NACCUDSD'].replace([1,3,4], ['NC','MCI', 'Dementia']) # Target variable"
   ]
  },
  {
   "cell_type": "code",
   "execution_count": 10,
   "metadata": {},
   "outputs": [
    {
     "data": {
      "text/html": [
       "<div>\n",
       "<style scoped>\n",
       "    .dataframe tbody tr th:only-of-type {\n",
       "        vertical-align: middle;\n",
       "    }\n",
       "\n",
       "    .dataframe tbody tr th {\n",
       "        vertical-align: top;\n",
       "    }\n",
       "\n",
       "    .dataframe thead th {\n",
       "        text-align: right;\n",
       "    }\n",
       "</style>\n",
       "<table border=\"1\" class=\"dataframe\">\n",
       "  <thead>\n",
       "    <tr style=\"text-align: right;\">\n",
       "      <th></th>\n",
       "      <th>NACCID</th>\n",
       "      <th>VISITMO</th>\n",
       "      <th>VISITYR</th>\n",
       "      <th>NACCVNUM</th>\n",
       "      <th>NACCAVST</th>\n",
       "      <th>SEX</th>\n",
       "      <th>MARISTAT</th>\n",
       "      <th>NACCLIVS</th>\n",
       "      <th>NACCAGEB</th>\n",
       "      <th>CDRSUM</th>\n",
       "      <th>...</th>\n",
       "      <th>STOVE</th>\n",
       "      <th>MEALPREP</th>\n",
       "      <th>EVENTS</th>\n",
       "      <th>PAYATTN</th>\n",
       "      <th>REMDATES</th>\n",
       "      <th>TRAVEL</th>\n",
       "      <th>NACCGDS</th>\n",
       "      <th>DEMENTED</th>\n",
       "      <th>NACCUDSD</th>\n",
       "      <th>NPI_SUM</th>\n",
       "    </tr>\n",
       "  </thead>\n",
       "  <tbody>\n",
       "    <tr>\n",
       "      <th>0</th>\n",
       "      <td>NACC000385</td>\n",
       "      <td>11</td>\n",
       "      <td>2006</td>\n",
       "      <td>1</td>\n",
       "      <td>7</td>\n",
       "      <td>1</td>\n",
       "      <td>1</td>\n",
       "      <td>2</td>\n",
       "      <td>80</td>\n",
       "      <td>5.0</td>\n",
       "      <td>...</td>\n",
       "      <td>0</td>\n",
       "      <td>0</td>\n",
       "      <td>1</td>\n",
       "      <td>2</td>\n",
       "      <td>2</td>\n",
       "      <td>2</td>\n",
       "      <td>1</td>\n",
       "      <td>1</td>\n",
       "      <td>Dementia</td>\n",
       "      <td>1</td>\n",
       "    </tr>\n",
       "    <tr>\n",
       "      <th>1</th>\n",
       "      <td>NACC000385</td>\n",
       "      <td>3</td>\n",
       "      <td>2008</td>\n",
       "      <td>2</td>\n",
       "      <td>7</td>\n",
       "      <td>1</td>\n",
       "      <td>1</td>\n",
       "      <td>2</td>\n",
       "      <td>80</td>\n",
       "      <td>7.0</td>\n",
       "      <td>...</td>\n",
       "      <td>0</td>\n",
       "      <td>3</td>\n",
       "      <td>2</td>\n",
       "      <td>1</td>\n",
       "      <td>3</td>\n",
       "      <td>3</td>\n",
       "      <td>2</td>\n",
       "      <td>1</td>\n",
       "      <td>Dementia</td>\n",
       "      <td>0</td>\n",
       "    </tr>\n",
       "    <tr>\n",
       "      <th>2</th>\n",
       "      <td>NACC000385</td>\n",
       "      <td>3</td>\n",
       "      <td>2009</td>\n",
       "      <td>3</td>\n",
       "      <td>7</td>\n",
       "      <td>1</td>\n",
       "      <td>1</td>\n",
       "      <td>2</td>\n",
       "      <td>80</td>\n",
       "      <td>5.0</td>\n",
       "      <td>...</td>\n",
       "      <td>1</td>\n",
       "      <td>2</td>\n",
       "      <td>2</td>\n",
       "      <td>2</td>\n",
       "      <td>3</td>\n",
       "      <td>3</td>\n",
       "      <td>1</td>\n",
       "      <td>1</td>\n",
       "      <td>Dementia</td>\n",
       "      <td>0</td>\n",
       "    </tr>\n",
       "    <tr>\n",
       "      <th>3</th>\n",
       "      <td>NACC000385</td>\n",
       "      <td>4</td>\n",
       "      <td>2010</td>\n",
       "      <td>4</td>\n",
       "      <td>7</td>\n",
       "      <td>1</td>\n",
       "      <td>1</td>\n",
       "      <td>2</td>\n",
       "      <td>80</td>\n",
       "      <td>5.0</td>\n",
       "      <td>...</td>\n",
       "      <td>0</td>\n",
       "      <td>1</td>\n",
       "      <td>2</td>\n",
       "      <td>2</td>\n",
       "      <td>2</td>\n",
       "      <td>2</td>\n",
       "      <td>1</td>\n",
       "      <td>1</td>\n",
       "      <td>Dementia</td>\n",
       "      <td>4</td>\n",
       "    </tr>\n",
       "    <tr>\n",
       "      <th>4</th>\n",
       "      <td>NACC000385</td>\n",
       "      <td>1</td>\n",
       "      <td>2011</td>\n",
       "      <td>5</td>\n",
       "      <td>7</td>\n",
       "      <td>1</td>\n",
       "      <td>1</td>\n",
       "      <td>2</td>\n",
       "      <td>80</td>\n",
       "      <td>7.0</td>\n",
       "      <td>...</td>\n",
       "      <td>0</td>\n",
       "      <td>1</td>\n",
       "      <td>1</td>\n",
       "      <td>2</td>\n",
       "      <td>2</td>\n",
       "      <td>3</td>\n",
       "      <td>3</td>\n",
       "      <td>1</td>\n",
       "      <td>Dementia</td>\n",
       "      <td>2</td>\n",
       "    </tr>\n",
       "  </tbody>\n",
       "</table>\n",
       "<p>5 rows × 25 columns</p>\n",
       "</div>"
      ],
      "text/plain": [
       "       NACCID  VISITMO  VISITYR  NACCVNUM  NACCAVST  SEX  MARISTAT  NACCLIVS  \\\n",
       "0  NACC000385       11     2006         1         7    1         1         2   \n",
       "1  NACC000385        3     2008         2         7    1         1         2   \n",
       "2  NACC000385        3     2009         3         7    1         1         2   \n",
       "3  NACC000385        4     2010         4         7    1         1         2   \n",
       "4  NACC000385        1     2011         5         7    1         1         2   \n",
       "\n",
       "   NACCAGEB  CDRSUM  ...  STOVE  MEALPREP  EVENTS  PAYATTN  REMDATES  TRAVEL  \\\n",
       "0        80     5.0  ...      0         0       1        2         2       2   \n",
       "1        80     7.0  ...      0         3       2        1         3       3   \n",
       "2        80     5.0  ...      1         2       2        2         3       3   \n",
       "3        80     5.0  ...      0         1       2        2         2       2   \n",
       "4        80     7.0  ...      0         1       1        2         2       3   \n",
       "\n",
       "   NACCGDS  DEMENTED  NACCUDSD  NPI_SUM  \n",
       "0        1         1  Dementia        1  \n",
       "1        2         1  Dementia        0  \n",
       "2        1         1  Dementia        0  \n",
       "3        1         1  Dementia        4  \n",
       "4        3         1  Dementia        2  \n",
       "\n",
       "[5 rows x 25 columns]"
      ]
     },
     "execution_count": 10,
     "metadata": {},
     "output_type": "execute_result"
    }
   ],
   "source": [
    "df_score.head()"
   ]
  },
  {
   "cell_type": "code",
   "execution_count": 9,
   "metadata": {},
   "outputs": [],
   "source": [
    "df_filter = df_score.groupby(['NACCID']).filter(lambda x : len(x)==5)"
   ]
  },
  {
   "cell_type": "code",
   "execution_count": 51,
   "metadata": {},
   "outputs": [
    {
     "data": {
      "text/plain": [
       "(9085, 12)"
      ]
     },
     "execution_count": 51,
     "metadata": {},
     "output_type": "execute_result"
    }
   ],
   "source": [
    "df_filter.shape"
   ]
  },
  {
   "cell_type": "markdown",
   "metadata": {},
   "source": [
    "### Find the patient list with total visits ==5 and dementia status == Normal cognition (NC) althrough the 5 visits"
   ]
  },
  {
   "cell_type": "code",
   "execution_count": 10,
   "metadata": {},
   "outputs": [],
   "source": [
    "df_filter_NC = df_score[df_score['NACCUDSD'] == 'NC'].groupby(['NACCID']).filter(lambda x : len(x)==5)\n"
   ]
  },
  {
   "cell_type": "markdown",
   "metadata": {},
   "source": [
    "### Find the patient list with total visits ==5 and dementia status == MCI althrough the 5 visits"
   ]
  },
  {
   "cell_type": "code",
   "execution_count": 11,
   "metadata": {},
   "outputs": [],
   "source": [
    "df_filter_MCI = df_score[df_score['NACCUDSD'] == 'MCI'].groupby(['NACCID']).filter(lambda x : len(x)==5)\n"
   ]
  },
  {
   "cell_type": "markdown",
   "metadata": {},
   "source": [
    "### Find the patient list with total visits ==5 and dementia status == Dementia althrough the 5 visits"
   ]
  },
  {
   "cell_type": "code",
   "execution_count": 12,
   "metadata": {},
   "outputs": [],
   "source": [
    "df_filter_Dem = df_score[df_score['NACCUDSD'] == 'Dementia'].groupby(['NACCID']).filter(lambda x : len(x)==5)\n"
   ]
  },
  {
   "cell_type": "code",
   "execution_count": 22,
   "metadata": {},
   "outputs": [
    {
     "data": {
      "text/plain": [
       "(83664, 12)"
      ]
     },
     "execution_count": 22,
     "metadata": {},
     "output_type": "execute_result"
    }
   ],
   "source": [
    "df_score.shape"
   ]
  },
  {
   "cell_type": "markdown",
   "metadata": {},
   "source": [
    "### Merge the NC, MCI and Dementia data frames to build one single dataframe"
   ]
  },
  {
   "cell_type": "code",
   "execution_count": 13,
   "metadata": {},
   "outputs": [],
   "source": [
    "df= pd.concat([df_filter_NC, df_filter_MCI, df_filter_Dem])"
   ]
  },
  {
   "cell_type": "code",
   "execution_count": 35,
   "metadata": {},
   "outputs": [
    {
     "data": {
      "text/plain": [
       "(8050, 12)"
      ]
     },
     "execution_count": 35,
     "metadata": {},
     "output_type": "execute_result"
    }
   ],
   "source": [
    "df.shape"
   ]
  },
  {
   "cell_type": "markdown",
   "metadata": {},
   "source": [
    "### Filter out the data set that has mixed NC, MCI and dementia"
   ]
  },
  {
   "cell_type": "code",
   "execution_count": 14,
   "metadata": {},
   "outputs": [],
   "source": [
    "df_mixed = df_filter.merge(df, how = 'outer' ,indicator=True).loc[lambda x : x['_merge']=='left_only']"
   ]
  },
  {
   "cell_type": "code",
   "execution_count": 103,
   "metadata": {},
   "outputs": [
    {
     "data": {
      "text/html": [
       "<div>\n",
       "<style scoped>\n",
       "    .dataframe tbody tr th:only-of-type {\n",
       "        vertical-align: middle;\n",
       "    }\n",
       "\n",
       "    .dataframe tbody tr th {\n",
       "        vertical-align: top;\n",
       "    }\n",
       "\n",
       "    .dataframe thead th {\n",
       "        text-align: right;\n",
       "    }\n",
       "</style>\n",
       "<table border=\"1\" class=\"dataframe\">\n",
       "  <thead>\n",
       "    <tr style=\"text-align: right;\">\n",
       "      <th></th>\n",
       "      <th>NACCID</th>\n",
       "      <th>VISITMO</th>\n",
       "      <th>VISITYR</th>\n",
       "      <th>NACCVNUM</th>\n",
       "      <th>NACCAVST</th>\n",
       "      <th>CDRSUM</th>\n",
       "      <th>NACCMMSE</th>\n",
       "      <th>NACCGDS</th>\n",
       "      <th>DEMENTED</th>\n",
       "      <th>NACCUDSD</th>\n",
       "      <th>NPI_SUM</th>\n",
       "      <th>FAQ_SUM</th>\n",
       "    </tr>\n",
       "  </thead>\n",
       "  <tbody>\n",
       "    <tr>\n",
       "      <th>73</th>\n",
       "      <td>NACC036619</td>\n",
       "      <td>8</td>\n",
       "      <td>2008</td>\n",
       "      <td>1</td>\n",
       "      <td>5</td>\n",
       "      <td>1.5</td>\n",
       "      <td>30</td>\n",
       "      <td>2</td>\n",
       "      <td>0</td>\n",
       "      <td>MCI</td>\n",
       "      <td>3</td>\n",
       "      <td>3</td>\n",
       "    </tr>\n",
       "    <tr>\n",
       "      <th>74</th>\n",
       "      <td>NACC036619</td>\n",
       "      <td>8</td>\n",
       "      <td>2009</td>\n",
       "      <td>2</td>\n",
       "      <td>5</td>\n",
       "      <td>1.0</td>\n",
       "      <td>28</td>\n",
       "      <td>1</td>\n",
       "      <td>0</td>\n",
       "      <td>MCI</td>\n",
       "      <td>3</td>\n",
       "      <td>5</td>\n",
       "    </tr>\n",
       "    <tr>\n",
       "      <th>75</th>\n",
       "      <td>NACC036619</td>\n",
       "      <td>8</td>\n",
       "      <td>2010</td>\n",
       "      <td>3</td>\n",
       "      <td>5</td>\n",
       "      <td>1.0</td>\n",
       "      <td>29</td>\n",
       "      <td>0</td>\n",
       "      <td>0</td>\n",
       "      <td>MCI</td>\n",
       "      <td>2</td>\n",
       "      <td>1</td>\n",
       "    </tr>\n",
       "    <tr>\n",
       "      <th>76</th>\n",
       "      <td>NACC036619</td>\n",
       "      <td>8</td>\n",
       "      <td>2011</td>\n",
       "      <td>4</td>\n",
       "      <td>5</td>\n",
       "      <td>0.0</td>\n",
       "      <td>29</td>\n",
       "      <td>1</td>\n",
       "      <td>0</td>\n",
       "      <td>NC</td>\n",
       "      <td>0</td>\n",
       "      <td>8</td>\n",
       "    </tr>\n",
       "    <tr>\n",
       "      <th>77</th>\n",
       "      <td>NACC036619</td>\n",
       "      <td>8</td>\n",
       "      <td>2012</td>\n",
       "      <td>5</td>\n",
       "      <td>5</td>\n",
       "      <td>0.0</td>\n",
       "      <td>30</td>\n",
       "      <td>0</td>\n",
       "      <td>0</td>\n",
       "      <td>NC</td>\n",
       "      <td>0</td>\n",
       "      <td>8</td>\n",
       "    </tr>\n",
       "  </tbody>\n",
       "</table>\n",
       "</div>"
      ],
      "text/plain": [
       "        NACCID  VISITMO  VISITYR  NACCVNUM  NACCAVST  CDRSUM  NACCMMSE  \\\n",
       "73  NACC036619        8     2008         1         5     1.5        30   \n",
       "74  NACC036619        8     2009         2         5     1.0        28   \n",
       "75  NACC036619        8     2010         3         5     1.0        29   \n",
       "76  NACC036619        8     2011         4         5     0.0        29   \n",
       "77  NACC036619        8     2012         5         5     0.0        30   \n",
       "\n",
       "    NACCGDS  DEMENTED NACCUDSD  NPI_SUM  FAQ_SUM  \n",
       "73        2         0      MCI        3        3  \n",
       "74        1         0      MCI        3        5  \n",
       "75        0         0      MCI        2        1  \n",
       "76        1         0       NC        0        8  \n",
       "77        0         0       NC        0        8  "
      ]
     },
     "execution_count": 103,
     "metadata": {},
     "output_type": "execute_result"
    }
   ],
   "source": [
    "df_filter.head()"
   ]
  },
  {
   "cell_type": "markdown",
   "metadata": {},
   "source": [
    "### Use the individual dataframes to build CSV files and run classification models"
   ]
  },
  {
   "cell_type": "code",
   "execution_count": 80,
   "metadata": {},
   "outputs": [],
   "source": [
    "df_mixed.to_csv('NACC_mixed.csv', sep =',',  encoding='utf-8')\n",
    "df_filter_NC.to_csv('NACC_NC.csv', sep =',',  encoding='utf-8')\n",
    "df_filter_MCI.to_csv('NACC_MCI.csv', sep =',',  encoding='utf-8')\n",
    "df_filter_Dem.to_csv('NACC_Dem.csv', sep =',',  encoding='utf-8')\n",
    "df_filter.to_csv('NACC_filter.csv', sep =',',  encoding='utf-8')\n"
   ]
  },
  {
   "cell_type": "markdown",
   "metadata": {},
   "source": [
    "### Visualization"
   ]
  },
  {
   "cell_type": "code",
   "execution_count": 15,
   "metadata": {},
   "outputs": [
    {
     "data": {
      "text/plain": [
       "<matplotlib.legend.Legend at 0x178803354e0>"
      ]
     },
     "execution_count": 15,
     "metadata": {},
     "output_type": "execute_result"
    },
    {
     "data": {
      "image/png": "[encoded data removed]",
      "text/plain": [
       "<Figure size 432x288 with 1 Axes>"
      ]
     },
     "metadata": {
      "needs_background": "light"
     },
     "output_type": "display_data"
    }
   ],
   "source": [
    "import matplotlib.pyplot as plt\n",
    "fig, ax = plt.subplots()\n",
    "df_filter_NC.hist(column= 'NACCMMSE', ax =ax, bins = 15)\n",
    "df_filter_MCI.hist(column= 'NACCMMSE', ax =ax, bins =15)\n",
    "#df_filter_Dem.hist(column= 'NACCMMSE', ax =ax,bins =15)\n",
    "\n",
    "ax.legend(['NC', 'MCI'])"
   ]
  },
  {
   "cell_type": "code",
   "execution_count": 16,
   "metadata": {},
   "outputs": [
    {
     "data": {
      "text/plain": [
       "<matplotlib.legend.Legend at 0x17880ef7978>"
      ]
     },
     "execution_count": 16,
     "metadata": {},
     "output_type": "execute_result"
    },
    {
     "data": {
      "image/png": "[encoded data removed]",
      "text/plain": [
       "<Figure size 432x288 with 1 Axes>"
      ]
     },
     "metadata": {
      "needs_background": "light"
     },
     "output_type": "display_data"
    }
   ],
   "source": [
    "import matplotlib.pyplot as plt\n",
    "fig, ax1 = plt.subplots()\n",
    "df_filter_NC.hist(column= 'CDRSUM', ax =ax1, bins = 15)\n",
    "df_filter_MCI.hist(column= 'CDRSUM', ax =ax1, bins =15)\n",
    "# df_filter_Dem.hist(column= 'CDRSUM', ax =ax1,bins =15)\n",
    "\n",
    "ax1.legend(['NC', 'MCI'])"
   ]
  },
  {
   "cell_type": "code",
   "execution_count": 105,
   "metadata": {},
   "outputs": [
    {
     "data": {
      "text/plain": [
       "<matplotlib.legend.Legend at 0x24315536a90>"
      ]
     },
     "execution_count": 105,
     "metadata": {},
     "output_type": "execute_result"
    },
    {
     "data": {
      "image/png": "[encoded data removed]",
      "text/plain": [
       "<Figure size 432x288 with 1 Axes>"
      ]
     },
     "metadata": {},
     "output_type": "display_data"
    }
   ],
   "source": [
    "import matplotlib.pyplot as plt\n",
    "fig, ax2 = plt.subplots()\n",
    "df_filter_NC.hist(column= 'NPI_SUM', ax =ax2, bins = 15)\n",
    "df_filter_MCI.hist(column= 'NPI_SUM', ax =ax2, bins =15)\n",
    "df_filter_Dem.hist(column= 'NPI_SUM', ax =ax2,bins =15)\n",
    "\n",
    "ax2.legend(['NC', 'MCI', 'dementia'])"
   ]
  },
  {
   "cell_type": "code",
   "execution_count": 106,
   "metadata": {},
   "outputs": [
    {
     "data": {
      "text/plain": [
       "<matplotlib.legend.Legend at 0x243156be2e8>"
      ]
     },
     "execution_count": 106,
     "metadata": {},
     "output_type": "execute_result"
    },
    {
     "data": {
      "image/png": "[encoded data removed]",
      "text/plain": [
       "<Figure size 432x288 with 1 Axes>"
      ]
     },
     "metadata": {},
     "output_type": "display_data"
    }
   ],
   "source": [
    "import matplotlib.pyplot as plt\n",
    "fig, ax3 = plt.subplots()\n",
    "df_filter_NC.hist(column= 'FAQ_SUM', ax =ax3, bins = 15)\n",
    "df_filter_MCI.hist(column= 'FAQ_SUM', ax =ax3, bins =15)\n",
    "df_filter_Dem.hist(column= 'FAQ_SUM', ax =ax3,bins =15)\n",
    "\n",
    "ax3.legend(['NC', 'MCI', 'dementia'])"
   ]
  }
 ],
 "metadata": {
  "kernelspec": {
   "display_name": "Python 3",
   "language": "python",
   "name": "python3"
  },
  "language_info": {
   "codemirror_mode": {
    "name": "ipython",
    "version": 3
   },
   "file_extension": ".py",
   "mimetype": "text/x-python",
   "name": "python",
   "nbconvert_exporter": "python",
   "pygments_lexer": "ipython3",
   "version": "3.7.4"
  }
 },
 "nbformat": 4,
 "nbformat_minor": 4
}

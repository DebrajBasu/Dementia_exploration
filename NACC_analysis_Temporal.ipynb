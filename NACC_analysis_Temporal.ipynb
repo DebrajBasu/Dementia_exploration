{
 "cells": [
  {
   "cell_type": "code",
   "execution_count": null,
   "metadata": {},
   "outputs": [],
   "source": [
    "import pandas as pd\n",
    "import numpy as np\n",
    "import seaborn as sns\n",
    "import matplotlib.pyplot as plt\n",
    "%matplotlib inline\n",
    "\n",
    "sns.set()\n",
    "\n",
    "df_NACC = pd.read_csv('./investigator_nacc46.csv')"
   ]
  },
  {
   "cell_type": "code",
   "execution_count": 2,
   "metadata": {},
   "outputs": [],
   "source": [
    "cols2FAQ =['BILLS', 'TAXES', 'SHOPPING', 'GAMES', 'STOVE', 'MEALPREP', 'EVENTS','PAYATTN', 'REMDATES', 'TRAVEL']\n",
    "col2NPIQ = ['DELSEV', 'HALLSEV', 'AGITSEV', 'DEPDSEV', 'ANXSEV', 'ELATSEV', 'APASEV', 'DISNSEV', \\\n",
    "         'IRRSEV', 'MOTSEV', 'NITESEV', 'APPSEV']"
   ]
  },
  {
   "cell_type": "markdown",
   "metadata": {},
   "source": [
    "# Use the columns of interests for temporal understanding of score changes"
   ]
  },
  {
   "cell_type": "code",
   "execution_count": 24,
   "metadata": {
    "scrolled": true
   },
   "outputs": [],
   "source": [
    "df_score = df_NACC[(df_NACC['NACCMMSE']<=30)  & (df_NACC['NACCMMSE'] >=0) & (df_NACC['NACCAGEB'] >45) &\\\n",
    "             (df_NACC['MARISTAT'] !=9) &(df_NACC['NACCLIVS'] !=9) & (df_NACC['NACCUDSD'] !=2) & (df_NACC['NACCGDS'] !=-4) \\\n",
    "            &  (df_NACC['NACCGDS'] <=15) & (df_NACC['BILLS'] >=0)& (df_NACC['BILLS'] <=8) & (df_NACC['TAXES'] >=0)& \\\n",
    "            (df_NACC['TAXES'] <=8) & (df_NACC['SHOPPING'] >=0)& (df_NACC['SHOPPING'] <=8) & (df_NACC['GAMES'] >=0)& \\\n",
    "            (df_NACC['GAMES'] <=8) & (df_NACC['STOVE'] >=0)& (df_NACC['STOVE'] <=8) & (df_NACC['MEALPREP'] >=0)& \\\n",
    "            (df_NACC['MEALPREP'] <=8) & (df_NACC['EVENTS'] >=0)& (df_NACC['EVENTS'] <=8) & (df_NACC['PAYATTN'] >=0)&\\\n",
    "            (df_NACC['PAYATTN'] <=8) & (df_NACC['REMDATES'] >=0)& (df_NACC['REMDATES'] <=8) & (df_NACC['TRAVEL'] >=0)& \\\n",
    "            (df_NACC['TRAVEL'] <=8) & (df_NACC['DELSEV'] >=1)& (df_NACC['DELSEV'] <=8) &(df_NACC['HALLSEV'] >=1)&\\\n",
    "            (df_NACC['HALLSEV'] <=8) &(df_NACC['AGITSEV'] >=1)& (df_NACC['AGITSEV'] <=8) &(df_NACC['DEPDSEV'] >=1)\\\n",
    "            & (df_NACC['DEPDSEV'] <=8) &(df_NACC['ANXSEV'] >=1)& (df_NACC['ANXSEV'] <=8) &(df_NACC['ELATSEV'] >=1)& \\\n",
    "            (df_NACC['ELATSEV'] <=8) &(df_NACC['APASEV'] >=1)& (df_NACC['APASEV'] <=8) &(df_NACC['DISNSEV'] >=1)& \\\n",
    "            (df_NACC['DISNSEV'] <=8) & (df_NACC['IRRSEV'] >=1)& (df_NACC['IRRSEV'] <=8) &(df_NACC['MOTSEV'] >=1)& \\\n",
    "            (df_NACC['MOTSEV'] <=8) & (df_NACC['NITESEV'] >=1)& (df_NACC['NITESEV'] <=8) &(df_NACC['APPSEV'] >=1)& \\\n",
    "            (df_NACC['APPSEV'] <=8)]\\\n",
    "         [['NACCID', 'VISITMO','VISITYR', 'NACCVNUM', 'NACCAVST','SEX', 'MARISTAT','NACCLIVS', 'NACCAGEB','CDRSUM', 'NACCMMSE','BILLS', 'TAXES', 'SHOPPING', 'GAMES', \\\n",
    "           'STOVE', 'MEALPREP', 'EVENTS','PAYATTN', 'REMDATES', 'TRAVEL', 'DELSEV', 'HALLSEV', 'AGITSEV', 'DEPDSEV', \\\n",
    "           'ANXSEV', 'ELATSEV', 'APASEV', 'DISNSEV', 'IRRSEV', 'MOTSEV', 'NITESEV', 'APPSEV',\\\n",
    "           'NACCGDS', 'DEMENTED', 'NACCUDSD']]\n",
    "df_score =df_score.reset_index(drop= True)"
   ]
  },
  {
   "cell_type": "code",
   "execution_count": null,
   "metadata": {},
   "outputs": [],
   "source": [
    "df_score.head()"
   ]
  },
  {
   "cell_type": "markdown",
   "metadata": {},
   "source": [
    "# convert all values in NPQ-I from 8 to 0"
   ]
  },
  {
   "cell_type": "code",
   "execution_count": null,
   "metadata": {},
   "outputs": [],
   "source": [
    "def assignvalue(value):\n",
    "    if value ==8:\n",
    "        return 0\n",
    "    else:\n",
    "        return value\n",
    "list_item =['DELSEV', 'HALLSEV', 'AGITSEV', 'DEPDSEV', 'ANXSEV', 'ELATSEV', 'APASEV', 'DISNSEV', 'IRRSEV', 'MOTSEV', \\\n",
    "            'NITESEV', 'APPSEV']\n",
    "for l in list_item:\n",
    "    df_score[l]=df_score[l].apply(assignvalue )"
   ]
  },
  {
   "cell_type": "markdown",
   "metadata": {},
   "source": [
    "# Add the NPI scores and drop the individual categories"
   ]
  },
  {
   "cell_type": "code",
   "execution_count": null,
   "metadata": {},
   "outputs": [],
   "source": [
    "df_score['NPI_SUM'] = df_score[col2NPIQ].sum(axis =1)\n",
    "df_score= df_score.drop(col2NPIQ, axis =1)\n",
    "df_score.shape\n",
    "df_score.head()"
   ]
  },
  {
   "cell_type": "code",
   "execution_count": null,
   "metadata": {},
   "outputs": [],
   "source": [
    "df_score.groupby('NACCVNUM').size()"
   ]
  },
  {
   "cell_type": "markdown",
   "metadata": {},
   "source": [
    "# Add the FAQ scores and drop the individual categories"
   ]
  },
  {
   "cell_type": "code",
   "execution_count": 27,
   "metadata": {},
   "outputs": [
    {
     "data": {
      "text/plain": [
       "(83664, 16)"
      ]
     },
     "execution_count": 27,
     "metadata": {},
     "output_type": "execute_result"
    }
   ],
   "source": [
    "df_score['FAQ_SUM'] = df_score[cols2FAQ].sum(axis =1)\n",
    "df_score= df_score.drop(cols2FAQ, axis =1)\n",
    "df_score.shape"
   ]
  },
  {
   "cell_type": "markdown",
   "metadata": {},
   "source": [
    "# Total number of patients"
   ]
  },
  {
   "cell_type": "code",
   "execution_count": null,
   "metadata": {},
   "outputs": [],
   "source": [
    "len(df_score['NACCID'].unique())"
   ]
  },
  {
   "cell_type": "code",
   "execution_count": 19,
   "metadata": {},
   "outputs": [
    {
     "data": {
      "text/html": [
       "<div>\n",
       "<style scoped>\n",
       "    .dataframe tbody tr th:only-of-type {\n",
       "        vertical-align: middle;\n",
       "    }\n",
       "\n",
       "    .dataframe tbody tr th {\n",
       "        vertical-align: top;\n",
       "    }\n",
       "\n",
       "    .dataframe thead th {\n",
       "        text-align: right;\n",
       "    }\n",
       "</style>\n",
       "<table border=\"1\" class=\"dataframe\">\n",
       "  <thead>\n",
       "    <tr style=\"text-align: right;\">\n",
       "      <th></th>\n",
       "      <th>NACCID</th>\n",
       "      <th>VISITMO</th>\n",
       "      <th>VISITYR</th>\n",
       "      <th>NACCVNUM</th>\n",
       "      <th>NACCAVST</th>\n",
       "      <th>SEX</th>\n",
       "      <th>MARISTAT</th>\n",
       "      <th>NACCLIVS</th>\n",
       "      <th>NACCAGEB</th>\n",
       "      <th>CDRSUM</th>\n",
       "      <th>NACCMMSE</th>\n",
       "      <th>NACCGDS</th>\n",
       "      <th>DEMENTED</th>\n",
       "      <th>NACCUDSD</th>\n",
       "      <th>NPI_SUM</th>\n",
       "      <th>FAQ_SUM</th>\n",
       "    </tr>\n",
       "  </thead>\n",
       "  <tbody>\n",
       "    <tr>\n",
       "      <th>0</th>\n",
       "      <td>NACC000385</td>\n",
       "      <td>11</td>\n",
       "      <td>2006</td>\n",
       "      <td>1</td>\n",
       "      <td>7</td>\n",
       "      <td>1</td>\n",
       "      <td>1</td>\n",
       "      <td>2</td>\n",
       "      <td>80</td>\n",
       "      <td>5.0</td>\n",
       "      <td>24</td>\n",
       "      <td>1</td>\n",
       "      <td>1</td>\n",
       "      <td>4</td>\n",
       "      <td>1</td>\n",
       "      <td>11</td>\n",
       "    </tr>\n",
       "    <tr>\n",
       "      <th>1</th>\n",
       "      <td>NACC000385</td>\n",
       "      <td>3</td>\n",
       "      <td>2008</td>\n",
       "      <td>2</td>\n",
       "      <td>7</td>\n",
       "      <td>1</td>\n",
       "      <td>1</td>\n",
       "      <td>2</td>\n",
       "      <td>80</td>\n",
       "      <td>7.0</td>\n",
       "      <td>22</td>\n",
       "      <td>2</td>\n",
       "      <td>1</td>\n",
       "      <td>4</td>\n",
       "      <td>0</td>\n",
       "      <td>22</td>\n",
       "    </tr>\n",
       "    <tr>\n",
       "      <th>2</th>\n",
       "      <td>NACC000385</td>\n",
       "      <td>3</td>\n",
       "      <td>2009</td>\n",
       "      <td>3</td>\n",
       "      <td>7</td>\n",
       "      <td>1</td>\n",
       "      <td>1</td>\n",
       "      <td>2</td>\n",
       "      <td>80</td>\n",
       "      <td>5.0</td>\n",
       "      <td>21</td>\n",
       "      <td>1</td>\n",
       "      <td>1</td>\n",
       "      <td>4</td>\n",
       "      <td>0</td>\n",
       "      <td>23</td>\n",
       "    </tr>\n",
       "    <tr>\n",
       "      <th>3</th>\n",
       "      <td>NACC000385</td>\n",
       "      <td>4</td>\n",
       "      <td>2010</td>\n",
       "      <td>4</td>\n",
       "      <td>7</td>\n",
       "      <td>1</td>\n",
       "      <td>1</td>\n",
       "      <td>2</td>\n",
       "      <td>80</td>\n",
       "      <td>5.0</td>\n",
       "      <td>20</td>\n",
       "      <td>1</td>\n",
       "      <td>1</td>\n",
       "      <td>4</td>\n",
       "      <td>4</td>\n",
       "      <td>15</td>\n",
       "    </tr>\n",
       "    <tr>\n",
       "      <th>4</th>\n",
       "      <td>NACC000385</td>\n",
       "      <td>1</td>\n",
       "      <td>2011</td>\n",
       "      <td>5</td>\n",
       "      <td>7</td>\n",
       "      <td>1</td>\n",
       "      <td>1</td>\n",
       "      <td>2</td>\n",
       "      <td>80</td>\n",
       "      <td>7.0</td>\n",
       "      <td>16</td>\n",
       "      <td>3</td>\n",
       "      <td>1</td>\n",
       "      <td>4</td>\n",
       "      <td>2</td>\n",
       "      <td>19</td>\n",
       "    </tr>\n",
       "  </tbody>\n",
       "</table>\n",
       "</div>"
      ],
      "text/plain": [
       "       NACCID  VISITMO  VISITYR  NACCVNUM  NACCAVST  SEX  MARISTAT  NACCLIVS  \\\n",
       "0  NACC000385       11     2006         1         7    1         1         2   \n",
       "1  NACC000385        3     2008         2         7    1         1         2   \n",
       "2  NACC000385        3     2009         3         7    1         1         2   \n",
       "3  NACC000385        4     2010         4         7    1         1         2   \n",
       "4  NACC000385        1     2011         5         7    1         1         2   \n",
       "\n",
       "   NACCAGEB  CDRSUM  NACCMMSE  NACCGDS  DEMENTED  NACCUDSD  NPI_SUM  FAQ_SUM  \n",
       "0        80     5.0        24        1         1         4        1       11  \n",
       "1        80     7.0        22        2         1         4        0       22  \n",
       "2        80     5.0        21        1         1         4        0       23  \n",
       "3        80     5.0        20        1         1         4        4       15  \n",
       "4        80     7.0        16        3         1         4        2       19  "
      ]
     },
     "execution_count": 19,
     "metadata": {},
     "output_type": "execute_result"
    }
   ],
   "source": [
    "df_score.head()"
   ]
  },
  {
   "cell_type": "markdown",
   "metadata": {},
   "source": [
    "# Convert NACCUDSD to categorical values"
   ]
  },
  {
   "cell_type": "code",
   "execution_count": 20,
   "metadata": {},
   "outputs": [],
   "source": [
    "df_score['NACCUDSD'] = df_score['NACCUDSD'].replace([1,3,4], ['NC','MCI', 'Dementia']) # Target variable"
   ]
  },
  {
   "cell_type": "markdown",
   "metadata": {},
   "source": [
    "# dropping rows with low counts on categories and more data cleaning"
   ]
  },
  {
   "cell_type": "code",
   "execution_count": null,
   "metadata": {},
   "outputs": [],
   "source": [
    "df_score.groupby('MARISTAT').size().sort_values(ascending= False)"
   ]
  },
  {
   "cell_type": "code",
   "execution_count": null,
   "metadata": {},
   "outputs": [],
   "source": [
    "df_score.head()"
   ]
  },
  {
   "cell_type": "code",
   "execution_count": 172,
   "metadata": {},
   "outputs": [],
   "source": [
    "df_score= df_score.groupby('MARISTAT').filter(lambda x : len(x)> 400)\n",
    "df_score= df_score.groupby('NACCLIVS').filter(lambda x : len(x)> 500)\n",
    "df_score =df_score.reset_index(drop = True)"
   ]
  },
  {
   "cell_type": "code",
   "execution_count": 57,
   "metadata": {},
   "outputs": [],
   "source": [
    "# Patient_list = df_score['NACCID'].unique()"
   ]
  },
  {
   "cell_type": "code",
   "execution_count": 173,
   "metadata": {},
   "outputs": [
    {
     "data": {
      "text/plain": [
       "(83664, 16)"
      ]
     },
     "execution_count": 173,
     "metadata": {},
     "output_type": "execute_result"
    }
   ],
   "source": [
    "df_score.shape"
   ]
  },
  {
   "cell_type": "code",
   "execution_count": 11,
   "metadata": {},
   "outputs": [],
   "source": [
    "pat_list =df_score[(df_score['NACCUDSD']==1) &(df_score['NACCVNUM']==5)]['NACCID'].to_list()"
   ]
  },
  {
   "cell_type": "code",
   "execution_count": 12,
   "metadata": {},
   "outputs": [],
   "source": [
    "df_firstvisit_dem =df_score[df_score['NACCID'].isin(pat_list)] "
   ]
  },
  {
   "cell_type": "code",
   "execution_count": null,
   "metadata": {},
   "outputs": [],
   "source": [
    "#test = df_firstvisit_dem.groupby('NACCID').filter(lambda x : len(x)==5)\n",
    "test = df_firstvisit_dem.groupby('NACCID').filter(lambda x : len(x) == 5)\n",
    "pat_list=  test['NACCID'].to_list()\n",
    "test.shape"
   ]
  },
  {
   "cell_type": "code",
   "execution_count": 203,
   "metadata": {},
   "outputs": [
    {
     "data": {
      "text/plain": [
       "2360    2010\n",
       "2361    2011\n",
       "2362    2012\n",
       "2363    2013\n",
       "2364    2014\n",
       "Name: VISITYR, dtype: int64"
      ]
     },
     "execution_count": 203,
     "metadata": {},
     "output_type": "execute_result"
    }
   ],
   "source": [
    "test[test['NACCID'] == pat]['VISITYR']"
   ]
  },
  {
   "cell_type": "code",
   "execution_count": null,
   "metadata": {},
   "outputs": [],
   "source": [
    "pat = pat_list[22]\n",
    "plt.plot(test[test['NACCID'] == pat]['VISITYR'],test[test['NACCID'] == pat]['NACCMMSE'], '-r*')\n",
    "plt.plot(test[test['NACCID'] == pat]['VISITYR'],test[test['NACCID'] == pat]['FAQ_SUM'], '--b^')\n",
    "plt.plot(test[test['NACCID'] == pat]['VISITYR'],test[test['NACCID'] == pat]['CDRSUM'], '-mx')\n",
    "plt.plot(test[test['NACCID'] == pat]['VISITYR'],test[test['NACCID'] == pat]['NPI_SUM'], '--k^')\n",
    "plt.plot(test[test['NACCID'] == pat]['VISITYR'],test[test['NACCID'] == pat]['NACCGDS'], '-gx')\n",
    "plt.plot(test[test['NACCID'] == pat]['VISITYR'],test[test['NACCID'] == pat]['NACCUDSD'], ':ro')\n",
    "plt.xlabel('Year')\n",
    "plt.ylabel('Scores')\n",
    "plt.legend(['MMSE score', 'FAQ score', 'CDR score', 'NPI-Q score', 'GDS score', 'NACCUDSD'])\n",
    "plt.show()"
   ]
  },
  {
   "cell_type": "code",
   "execution_count": null,
   "metadata": {},
   "outputs": [],
   "source": [
    "test"
   ]
  },
  {
   "cell_type": "code",
   "execution_count": 129,
   "metadata": {},
   "outputs": [
    {
     "data": {
      "image/png": "[encoded data removed]",
      "text/plain": [
       "<Figure size 432x288 with 1 Axes>"
      ]
     },
     "metadata": {},
     "output_type": "display_data"
    }
   ],
   "source": [
    "pat = pat_list[20]\n",
    "plt.plot(df_firstvisit_dem[df_firstvisit_dem['NACCID'] == pat]['VISITYR'],df_firstvisit_dem[df_firstvisit_dem['NACCID'] == pat]['NACCMMSE'], '-r*')\n",
    "plt.plot(df_firstvisit_dem[df_firstvisit_dem['NACCID'] == pat]['VISITYR'],df_firstvisit_dem[df_firstvisit_dem['NACCID'] == pat]['FAQ_SUM'], '--b^')\n",
    "plt.plot(df_firstvisit_dem[df_firstvisit_dem['NACCID'] == pat]['VISITYR'],df_firstvisit_dem[df_firstvisit_dem['NACCID'] == pat]['CDRSUM'], '-mx')\n",
    "plt.plot(df_firstvisit_dem[df_firstvisit_dem['NACCID'] == pat]['VISITYR'],df_firstvisit_dem[df_firstvisit_dem['NACCID'] == pat]['NPI_SUM'], '--k^')\n",
    "plt.plot(df_firstvisit_dem[df_firstvisit_dem['NACCID'] == pat]['VISITYR'],df_firstvisit_dem[df_firstvisit_dem['NACCID'] == pat]['NACCGDS'], '-gx')\n",
    "plt.plot(df_firstvisit_dem[df_firstvisit_dem['NACCID'] == pat]['VISITYR'],df_firstvisit_dem[df_firstvisit_dem['NACCID'] == pat]['NACCUDSD'], ':ro')\n",
    "plt.xlabel('Year')\n",
    "plt.ylabel('Scores')\n",
    "plt.legend(['MMSE score', 'FAQ score', 'CDR score', 'NPI-Q score', 'GDS score', 'NACCUDSD'])\n",
    "plt.show()"
   ]
  },
  {
   "cell_type": "code",
   "execution_count": 131,
   "metadata": {},
   "outputs": [
    {
     "data": {
      "text/html": [
       "<div>\n",
       "<style scoped>\n",
       "    .dataframe tbody tr th:only-of-type {\n",
       "        vertical-align: middle;\n",
       "    }\n",
       "\n",
       "    .dataframe tbody tr th {\n",
       "        vertical-align: top;\n",
       "    }\n",
       "\n",
       "    .dataframe thead th {\n",
       "        text-align: right;\n",
       "    }\n",
       "</style>\n",
       "<table border=\"1\" class=\"dataframe\">\n",
       "  <thead>\n",
       "    <tr style=\"text-align: right;\">\n",
       "      <th></th>\n",
       "      <th>NACCID</th>\n",
       "      <th>VISITMO</th>\n",
       "      <th>VISITYR</th>\n",
       "      <th>NACCVNUM</th>\n",
       "      <th>NACCAVST</th>\n",
       "      <th>SEX</th>\n",
       "      <th>MARISTAT</th>\n",
       "      <th>NACCLIVS</th>\n",
       "      <th>NACCAGEB</th>\n",
       "      <th>CDRSUM</th>\n",
       "      <th>NACCMMSE</th>\n",
       "      <th>NACCGDS</th>\n",
       "      <th>DEMENTED</th>\n",
       "      <th>NACCUDSD</th>\n",
       "      <th>NPI_SUM</th>\n",
       "      <th>FAQ_SUM</th>\n",
       "    </tr>\n",
       "  </thead>\n",
       "  <tbody>\n",
       "    <tr>\n",
       "      <th>101</th>\n",
       "      <td>NACC042723</td>\n",
       "      <td>11</td>\n",
       "      <td>2012</td>\n",
       "      <td>1</td>\n",
       "      <td>1</td>\n",
       "      <td>2</td>\n",
       "      <td>1</td>\n",
       "      <td>2</td>\n",
       "      <td>72</td>\n",
       "      <td>8.0</td>\n",
       "      <td>17</td>\n",
       "      <td>3</td>\n",
       "      <td>1</td>\n",
       "      <td>4</td>\n",
       "      <td>4</td>\n",
       "      <td>18</td>\n",
       "    </tr>\n",
       "  </tbody>\n",
       "</table>\n",
       "</div>"
      ],
      "text/plain": [
       "         NACCID  VISITMO  VISITYR  NACCVNUM  NACCAVST  SEX  MARISTAT  \\\n",
       "101  NACC042723       11     2012         1         1    2         1   \n",
       "\n",
       "     NACCLIVS  NACCAGEB  CDRSUM  NACCMMSE  NACCGDS  DEMENTED  NACCUDSD  \\\n",
       "101         2        72     8.0        17        3         1         4   \n",
       "\n",
       "     NPI_SUM  FAQ_SUM  \n",
       "101        4       18  "
      ]
     },
     "execution_count": 131,
     "metadata": {},
     "output_type": "execute_result"
    }
   ],
   "source": [
    "df_firstvisit_dem[df_firstvisit_dem['NACCID']== pat]\n",
    "df_score[df_score['NACCID']== pat]"
   ]
  },
  {
   "cell_type": "code",
   "execution_count": 62,
   "metadata": {},
   "outputs": [
    {
     "data": {
      "image/png": "[encoded data removed]",
      "text/plain": [
       "<Figure size 432x288 with 1 Axes>"
      ]
     },
     "metadata": {},
     "output_type": "display_data"
    }
   ],
   "source": [
    "pat = 845\n",
    "plt.plot(df_score[df_score['NACCID'] == Patient_list[pat]]['VISITYR'],df_score[df_score['NACCID'] == Patient_list[pat]]['NACCMMSE'], '-r*')\n",
    "plt.plot(df_score[df_score['NACCID'] == Patient_list[pat]]['VISITYR'],df_score[df_score['NACCID'] == Patient_list[pat]]['FAQ_SUM'], '--b^')\n",
    "plt.plot(df_score[df_score['NACCID'] == Patient_list[pat]]['VISITYR'],df_score[df_score['NACCID'] == Patient_list[pat]]['CDRSUM'], '-mx')\n",
    "plt.plot(df_score[df_score['NACCID'] == Patient_list[pat]]['VISITYR'],df_score[df_score['NACCID'] == Patient_list[pat]]['NPI_SUM'], '--k^')\n",
    "plt.plot(df_score[df_score['NACCID'] == Patient_list[pat]]['VISITYR'],df_score[df_score['NACCID'] == Patient_list[pat]]['NACCGDS'], '-gx')\n",
    "plt.plot(df_score[df_score['NACCID'] == Patient_list[pat]]['VISITYR'],df_score[df_score['NACCID'] == Patient_list[pat]]['DEMENTED'], ':ro')\n",
    "plt.xlabel('Year')\n",
    "plt.ylabel('Scores')\n",
    "plt.legend(['MMSE score', 'FAQ score', 'CDR score', 'NPI-Q score', 'GDS score', 'DEMENTED'])\n",
    "plt.show()"
   ]
  },
  {
   "cell_type": "markdown",
   "metadata": {},
   "source": [
    "# Convert columns into categorical data"
   ]
  },
  {
   "cell_type": "code",
   "execution_count": 117,
   "metadata": {},
   "outputs": [],
   "source": [
    "#Married status\n",
    "df_SH['MARISTAT'] = df_SH['MARISTAT'].replace([1,2,3,5], ['Married','windowed', 'Divorced', 'Never Married']) # Target variable\n",
    "#\n",
    "df_SH['NACCLIVS'] = df_SH['NACCLIVS'].replace([1,2,3], ['Lives alone','Lives with spouse or partner', 'Lives with relative or friend']) # Target variable\n",
    "\n",
    "df_SH['SEX'] = df_SH['SEX'].replace([1,2], ['M','F']) # Target variable\n",
    "\n",
    "df_SH['CVHATT'] = df_SH['CVHATT'].replace([0,1,2], ['Absent','Active', 'Inactive']) # Target variable\n",
    "\n",
    "df_SH['ALCOHOL'] = df_SH['ALCOHOL'].replace([0,1,2], ['Absent','Active', 'Inactive']) # Target variable\n",
    "\n",
    "df_SH['NACCMOM'] = df_SH['NACCMOM'].replace([0,1], ['No','Yes']) # Target variable\n",
    "df_SH['NACCDAD'] = df_SH['NACCDAD'].replace([0,1], ['No','Yes']) # Target variable\n",
    "df_SH['NACCFADM'] = df_SH['NACCFADM'].replace([0,1], ['No','Yes']) # Target variable\n",
    "#df_SH['DEMENTED'] = df_SH['DEMENTED'].replace([0,1], ['NonDemented','Demented']) # Target variable"
   ]
  },
  {
   "cell_type": "code",
   "execution_count": null,
   "metadata": {},
   "outputs": [],
   "source": []
  }
 ],
 "metadata": {
  "kernelspec": {
   "display_name": "Python 3",
   "language": "python",
   "name": "python3"
  },
  "language_info": {
   "codemirror_mode": {
    "name": "ipython",
    "version": 3
   },
   "file_extension": ".py",
   "mimetype": "text/x-python",
   "name": "python",
   "nbconvert_exporter": "python",
   "pygments_lexer": "ipython3",
   "version": "3.7.4"
  }
 },
 "nbformat": 4,
 "nbformat_minor": 4
}
